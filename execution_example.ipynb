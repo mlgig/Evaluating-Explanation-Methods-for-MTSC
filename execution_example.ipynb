{
 "cells": [
  {
   "cell_type": "markdown",
   "id": "f3758c45-61f7-43ae-92c8-3109a119dc5e",
   "metadata": {},
   "source": [
    "# Load data\n",
    "We included 5 different datasets in our work:\n",
    "3 synthetic ones\n",
    "Military press (MP)\n",
    "Counter Movement Jump (CMJ)"
   ]
  },
  {
   "cell_type": "code",
   "execution_count": 1,
   "id": "37a380ba-191f-448a-a325-50087dd29d96",
   "metadata": {},
   "outputs": [],
   "source": [
    "from load_data import load_data"
   ]
  },
  {
   "cell_type": "markdown",
   "id": "f263e18f-c59b-4ec8-a5a7-d297f2132064",
   "metadata": {},
   "source": [
    "only accepted arguments for dataset_name are \"synth\",\"CMJ\" and \"MP\" \n",
    "\n",
    "The returned value is a dictionary containing both x any for both train and test set"
   ]
  },
  {
   "cell_type": "code",
   "execution_count": 2,
   "id": "4ba90d60-2a0b-49af-b157-8cef3a592c05",
   "metadata": {},
   "outputs": [],
   "source": [
    "datasets = load_data(data_name=\"synth\",concat=False)"
   ]
  },
  {
   "cell_type": "code",
   "execution_count": 3,
   "id": "af90e1da-e801-408c-ada2-2dca52d8d3d5",
   "metadata": {},
   "outputs": [
    {
     "data": {
      "text/plain": [
       "dict_keys(['X_train', 'X_test', 'y_train', 'y_test', 'meta_train', 'meta_test'])"
      ]
     },
     "execution_count": 3,
     "metadata": {},
     "output_type": "execute_result"
    }
   ],
   "source": [
    "datasets[\"PseudoPeriodic_Positional_False\"].keys()"
   ]
  },
  {
   "cell_type": "code",
   "execution_count": 4,
   "id": "05fcf365-bc32-4d61-942a-adc9fdc09718",
   "metadata": {},
   "outputs": [],
   "source": [
    "X_train = datasets[\"PseudoPeriodic_Positional_False\"]['X_train']\n",
    "X_test = datasets[\"PseudoPeriodic_Positional_False\"]['X_test']\n",
    "y_train = datasets[\"PseudoPeriodic_Positional_False\"]['y_train']\n",
    "y_test = datasets[\"PseudoPeriodic_Positional_False\"]['y_test']"
   ]
  },
  {
   "cell_type": "markdown",
   "id": "24a394c0-1859-46c0-86c0-e5461bc61e0a",
   "metadata": {},
   "source": [
    "# TRAIN MODELS\n",
    "## train rocket concatenated"
   ]
  },
  {
   "cell_type": "code",
   "execution_count": 5,
   "id": "71bc5030-dc3c-425a-b95d-3039625daf9b",
   "metadata": {},
   "outputs": [],
   "source": [
    "#load concat data\n",
    "import numpy as np\n",
    "concat_data = load_data(data_name=\"synth\",concat=True)\n",
    "\n",
    "# loading the data using concat=True provide a 2D array \n",
    "# but sktime is expacting a 3D one also in univariate case\n",
    "\n",
    "X_train_concat = np.expand_dims(\n",
    "    concat_data[\"PseudoPeriodic_Positional_False\"]['X_train'],1)\n",
    "X_test_concat =  np.expand_dims(\n",
    "    concat_data[\"PseudoPeriodic_Positional_False\"]['X_test'],1)\n",
    "y_train_concat = concat_data[\"PseudoPeriodic_Positional_False\"]['y_train']\n",
    "y_test_concat = concat_data[\"PseudoPeriodic_Positional_False\"]['y_test']"
   ]
  },
  {
   "cell_type": "code",
   "execution_count": 6,
   "id": "8650e5d4-cb76-41b5-b79e-3a0fefb0324f",
   "metadata": {},
   "outputs": [],
   "source": [
    "from sktime.transformations.panel.rocket import Rocket\n",
    "from sklearn.linear_model import LogisticRegressionCV\n",
    "from  sklearn.preprocessing import StandardScaler\n",
    "from sklearn.pipeline import make_pipeline"
   ]
  },
  {
   "cell_type": "code",
   "execution_count": 7,
   "id": "c45f1437-9363-4812-ba82-b91e913958e6",
   "metadata": {},
   "outputs": [],
   "source": [
    "cls = make_pipeline(Rocket(normalise=True,n_jobs=-1) ,StandardScaler(),\n",
    " LogisticRegressionCV(cv = 5, random_state=0, n_jobs = -1,max_iter=1000))\n"
   ]
  },
  {
   "cell_type": "code",
   "execution_count": 8,
   "id": "22b29adf-f18a-46cc-a043-24a4ea755b1a",
   "metadata": {},
   "outputs": [
    {
     "data": {
      "text/html": [
       "<style>#sk-container-id-1 {color: black;background-color: white;}#sk-container-id-1 pre{padding: 0;}#sk-container-id-1 div.sk-toggleable {background-color: white;}#sk-container-id-1 label.sk-toggleable__label {cursor: pointer;display: block;width: 100%;margin-bottom: 0;padding: 0.3em;box-sizing: border-box;text-align: center;}#sk-container-id-1 label.sk-toggleable__label-arrow:before {content: \"▸\";float: left;margin-right: 0.25em;color: #696969;}#sk-container-id-1 label.sk-toggleable__label-arrow:hover:before {color: black;}#sk-container-id-1 div.sk-estimator:hover label.sk-toggleable__label-arrow:before {color: black;}#sk-container-id-1 div.sk-toggleable__content {max-height: 0;max-width: 0;overflow: hidden;text-align: left;background-color: #f0f8ff;}#sk-container-id-1 div.sk-toggleable__content pre {margin: 0.2em;color: black;border-radius: 0.25em;background-color: #f0f8ff;}#sk-container-id-1 input.sk-toggleable__control:checked~div.sk-toggleable__content {max-height: 200px;max-width: 100%;overflow: auto;}#sk-container-id-1 input.sk-toggleable__control:checked~label.sk-toggleable__label-arrow:before {content: \"▾\";}#sk-container-id-1 div.sk-estimator input.sk-toggleable__control:checked~label.sk-toggleable__label {background-color: #d4ebff;}#sk-container-id-1 div.sk-label input.sk-toggleable__control:checked~label.sk-toggleable__label {background-color: #d4ebff;}#sk-container-id-1 input.sk-hidden--visually {border: 0;clip: rect(1px 1px 1px 1px);clip: rect(1px, 1px, 1px, 1px);height: 1px;margin: -1px;overflow: hidden;padding: 0;position: absolute;width: 1px;}#sk-container-id-1 div.sk-estimator {font-family: monospace;background-color: #f0f8ff;border: 1px dotted black;border-radius: 0.25em;box-sizing: border-box;margin-bottom: 0.5em;}#sk-container-id-1 div.sk-estimator:hover {background-color: #d4ebff;}#sk-container-id-1 div.sk-parallel-item::after {content: \"\";width: 100%;border-bottom: 1px solid gray;flex-grow: 1;}#sk-container-id-1 div.sk-label:hover label.sk-toggleable__label {background-color: #d4ebff;}#sk-container-id-1 div.sk-serial::before {content: \"\";position: absolute;border-left: 1px solid gray;box-sizing: border-box;top: 0;bottom: 0;left: 50%;z-index: 0;}#sk-container-id-1 div.sk-serial {display: flex;flex-direction: column;align-items: center;background-color: white;padding-right: 0.2em;padding-left: 0.2em;position: relative;}#sk-container-id-1 div.sk-item {position: relative;z-index: 1;}#sk-container-id-1 div.sk-parallel {display: flex;align-items: stretch;justify-content: center;background-color: white;position: relative;}#sk-container-id-1 div.sk-item::before, #sk-container-id-1 div.sk-parallel-item::before {content: \"\";position: absolute;border-left: 1px solid gray;box-sizing: border-box;top: 0;bottom: 0;left: 50%;z-index: -1;}#sk-container-id-1 div.sk-parallel-item {display: flex;flex-direction: column;z-index: 1;position: relative;background-color: white;}#sk-container-id-1 div.sk-parallel-item:first-child::after {align-self: flex-end;width: 50%;}#sk-container-id-1 div.sk-parallel-item:last-child::after {align-self: flex-start;width: 50%;}#sk-container-id-1 div.sk-parallel-item:only-child::after {width: 0;}#sk-container-id-1 div.sk-dashed-wrapped {border: 1px dashed gray;margin: 0 0.4em 0.5em 0.4em;box-sizing: border-box;padding-bottom: 0.4em;background-color: white;}#sk-container-id-1 div.sk-label label {font-family: monospace;font-weight: bold;display: inline-block;line-height: 1.2em;}#sk-container-id-1 div.sk-label-container {text-align: center;}#sk-container-id-1 div.sk-container {/* jupyter's `normalize.less` sets `[hidden] { display: none; }` but bootstrap.min.css set `[hidden] { display: none !important; }` so we also need the `!important` here to be able to override the default hidden behavior on the sphinx rendered scikit-learn.org. See: https://github.com/scikit-learn/scikit-learn/issues/21755 */display: inline-block !important;position: relative;}#sk-container-id-1 div.sk-text-repr-fallback {display: none;}</style><div id=\"sk-container-id-1\" class=\"sk-top-container\"><div class=\"sk-text-repr-fallback\"><pre>Pipeline(steps=[(&#x27;rocket&#x27;, Rocket(n_jobs=-1)),\n",
       "                (&#x27;standardscaler&#x27;, StandardScaler()),\n",
       "                (&#x27;logisticregressioncv&#x27;,\n",
       "                 LogisticRegressionCV(cv=5, max_iter=1000, n_jobs=-1,\n",
       "                                      random_state=0))])</pre><b>In a Jupyter environment, please rerun this cell to show the HTML representation or trust the notebook. <br />On GitHub, the HTML representation is unable to render, please try loading this page with nbviewer.org.</b></div><div class=\"sk-container\" hidden><div class=\"sk-item sk-dashed-wrapped\"><div class=\"sk-label-container\"><div class=\"sk-label sk-toggleable\"><input class=\"sk-toggleable__control sk-hidden--visually\" id=\"sk-estimator-id-1\" type=\"checkbox\" ><label for=\"sk-estimator-id-1\" class=\"sk-toggleable__label sk-toggleable__label-arrow\">Pipeline</label><div class=\"sk-toggleable__content\"><pre>Pipeline(steps=[(&#x27;rocket&#x27;, Rocket(n_jobs=-1)),\n",
       "                (&#x27;standardscaler&#x27;, StandardScaler()),\n",
       "                (&#x27;logisticregressioncv&#x27;,\n",
       "                 LogisticRegressionCV(cv=5, max_iter=1000, n_jobs=-1,\n",
       "                                      random_state=0))])</pre></div></div></div><div class=\"sk-serial\"><div class=\"sk-item\"><div class=\"sk-estimator sk-toggleable\"><input class=\"sk-toggleable__control sk-hidden--visually\" id=\"sk-estimator-id-2\" type=\"checkbox\" ><label for=\"sk-estimator-id-2\" class=\"sk-toggleable__label sk-toggleable__label-arrow\">Rocket</label><div class=\"sk-toggleable__content\"><pre>Rocket(n_jobs=-1)</pre></div></div></div><div class=\"sk-item\"><div class=\"sk-estimator sk-toggleable\"><input class=\"sk-toggleable__control sk-hidden--visually\" id=\"sk-estimator-id-3\" type=\"checkbox\" ><label for=\"sk-estimator-id-3\" class=\"sk-toggleable__label sk-toggleable__label-arrow\">StandardScaler</label><div class=\"sk-toggleable__content\"><pre>StandardScaler()</pre></div></div></div><div class=\"sk-item\"><div class=\"sk-estimator sk-toggleable\"><input class=\"sk-toggleable__control sk-hidden--visually\" id=\"sk-estimator-id-4\" type=\"checkbox\" ><label for=\"sk-estimator-id-4\" class=\"sk-toggleable__label sk-toggleable__label-arrow\">LogisticRegressionCV</label><div class=\"sk-toggleable__content\"><pre>LogisticRegressionCV(cv=5, max_iter=1000, n_jobs=-1, random_state=0)</pre></div></div></div></div></div></div></div>"
      ],
      "text/plain": [
       "Pipeline(steps=[('rocket', Rocket(n_jobs=-1)),\n",
       "                ('standardscaler', StandardScaler()),\n",
       "                ('logisticregressioncv',\n",
       "                 LogisticRegressionCV(cv=5, max_iter=1000, n_jobs=-1,\n",
       "                                      random_state=0))])"
      ]
     },
     "execution_count": 8,
     "metadata": {},
     "output_type": "execute_result"
    }
   ],
   "source": [
    "cls.fit(X_train_concat, y_train_concat)"
   ]
  },
  {
   "cell_type": "code",
   "execution_count": 9,
   "id": "949be6b4-4406-4692-90a8-5b8d26028876",
   "metadata": {},
   "outputs": [
    {
     "name": "stdout",
     "output_type": "stream",
     "text": [
      "Rocket accuracy is  1.0\n"
     ]
    }
   ],
   "source": [
    "acc = cls.score(X_test_concat, y_test_concat)\n",
    "print(\"Rocket accuracy is \",acc)"
   ]
  },
  {
   "cell_type": "code",
   "execution_count": null,
   "id": "943fa2b2-f1f3-4b1e-af4b-d5e8907d32e6",
   "metadata": {},
   "outputs": [],
   "source": []
  },
  {
   "cell_type": "markdown",
   "id": "6760f036-3492-4a4c-be08-bfdaca9babfc",
   "metadata": {},
   "source": [
    "## train dResNet\n"
   ]
  },
  {
   "cell_type": "code",
   "execution_count": 10,
   "id": "bfd911ca-93b5-447b-9f95-89ca08eb22d4",
   "metadata": {},
   "outputs": [],
   "source": [
    "from dCAM.src.models.CNN_models import dResNetBaseline,ModelCNN\n",
    "from utilities import transform_data4ResNet"
   ]
  },
  {
   "cell_type": "code",
   "execution_count": 11,
   "id": "178b2165-6c10-4f39-b8d0-09299f665907",
   "metadata": {},
   "outputs": [],
   "source": [
    "# change your device to cpu if you don't have CUDA\n",
    "device=\"cuda\""
   ]
  },
  {
   "cell_type": "code",
   "execution_count": 12,
   "id": "b9ede53c-661a-4083-a305-60b9da51b935",
   "metadata": {},
   "outputs": [],
   "source": [
    "train_dataloader,test_dataloader, n_channels, n_classes, device,_ = transform_data4ResNet(\n",
    "        datasets[\"PseudoPeriodic_Positional_False\"],\n",
    "    \"PseudoPeriodic_Positional_False\",concat=False)"
   ]
  },
  {
   "cell_type": "code",
   "execution_count": 13,
   "id": "c35c53d1-0ca6-4e38-9a3d-69bbd52d10ec",
   "metadata": {},
   "outputs": [],
   "source": [
    "modelarch = dResNetBaseline(n_channels,mid_channels=64,\n",
    "        num_pred_classes=n_classes).to(device)"
   ]
  },
  {
   "cell_type": "code",
   "execution_count": 14,
   "id": "54f475ce-5c32-423e-a5f7-66a8965d8482",
   "metadata": {},
   "outputs": [],
   "source": [
    "# \"n_epochs_stop\" parameter is used for early stopping\n",
    "# i.e. (number of not improving accuracy epochs before stop)\n",
    "dResNet = ModelCNN(model=modelarch \n",
    "            ,n_epochs_stop=20,device=device)"
   ]
  },
  {
   "cell_type": "code",
   "execution_count": 15,
   "id": "36d6ae32-22cf-4d9b-9d97-77dbbc2b109e",
   "metadata": {},
   "outputs": [
    {
     "name": "stdout",
     "output_type": "stream",
     "text": [
      "Epoch [1/100], Loss Train: 0.6795,Loss Test: 0.6922, Accuracy Train: 54.00%, Accuracy Test: 74.00%\n",
      "Epoch [11/100], Loss Train: 0.6093,Loss Test: 0.6145, Accuracy Train: 84.00%, Accuracy Test: 87.00%\n",
      "Epoch [21/100], Loss Train: 0.4808,Loss Test: 0.4875, Accuracy Train: 95.00%, Accuracy Test: 87.00%\n",
      "Epoch [31/100], Loss Train: 0.3792,Loss Test: 0.3897, Accuracy Train: 96.00%, Accuracy Test: 93.00%\n",
      "Epoch [41/100], Loss Train: 0.3171,Loss Test: 0.3269, Accuracy Train: 98.00%, Accuracy Test: 94.00%\n",
      "Epoch [51/100], Loss Train: 0.2545,Loss Test: 0.2857, Accuracy Train: 99.00%, Accuracy Test: 95.00%\n",
      "Epoch [61/100], Loss Train: 0.2494,Loss Test: 0.2622, Accuracy Train: 100.00%, Accuracy Test: 97.00%\n",
      "Epoch [71/100], Loss Train: 0.2528,Loss Test: 0.2360, Accuracy Train: 100.00%, Accuracy Test: 98.00%\n",
      "Epoch [81/100], Loss Train: 0.1870,Loss Test: 0.2206, Accuracy Train: 100.00%, Accuracy Test: 98.00%\n",
      "Epoch [91/100], Loss Train: 0.1908,Loss Test: 0.2012, Accuracy Train: 100.00%, Accuracy Test: 98.00%\n"
     ]
    }
   ],
   "source": [
    "# \"num_epochs\" is maximum epochs number\n",
    "acc = dResNet.train(num_epochs=100,train_loader=train_dataloader,test_loader=test_dataloader)"
   ]
  },
  {
   "cell_type": "code",
   "execution_count": null,
   "id": "c1e07d03-eeb9-4bd4-b7f5-45c532bf1c68",
   "metadata": {},
   "outputs": [],
   "source": []
  },
  {
   "cell_type": "markdown",
   "id": "1c34f743-d838-4872-b738-5d62c379b507",
   "metadata": {},
   "source": [
    "# EXPLAIN\n",
    "## dCAM"
   ]
  },
  {
   "cell_type": "code",
   "execution_count": 16,
   "id": "dfaadd7f-3603-4685-bcb6-b1aab5fcf8b2",
   "metadata": {},
   "outputs": [],
   "source": [
    "X_specimen = X_test[0]\n",
    "y_specimen = (y_test[0])"
   ]
  },
  {
   "cell_type": "code",
   "execution_count": 17,
   "id": "ef02f680-bfde-49d2-b9e5-470a4b8c0fea",
   "metadata": {},
   "outputs": [],
   "source": [
    "from dCAM.src.explanation.DCAM import DCAM"
   ]
  },
  {
   "cell_type": "code",
   "execution_count": 18,
   "id": "bd903d2e-acc6-4afe-915c-c910ec020d14",
   "metadata": {},
   "outputs": [],
   "source": [
    "# need to identify last convolutional layer and \n",
    "#  fully connected layer \n",
    "last_conv_layer = dResNet.model._modules['layers'][2]\n",
    "fc_layer_name = dResNet.model._modules['final']"
   ]
  },
  {
   "cell_type": "code",
   "execution_count": 19,
   "id": "35b33c8e-975b-4201-9fb6-c83647a7e1b8",
   "metadata": {},
   "outputs": [],
   "source": [
    "dcam = DCAM(dResNet.model,device,last_conv_layer=last_conv_layer,fc_layer_name=fc_layer_name)"
   ]
  },
  {
   "cell_type": "code",
   "execution_count": 20,
   "id": "1d7cd0a7-cc75-4ac1-8612-ba9214007a64",
   "metadata": {},
   "outputs": [
    {
     "name": "stderr",
     "output_type": "stream",
     "text": [
      "  0%|                                                   | 0/200 [00:00<?, ?it/s]/home/davide/workspace/PhD/Trang/first_experiment/dCAM/src/explanation/DCAM.py:133: UserWarning: Implicit dimension choice for softmax has been deprecated. Change the call to include dim=X as an argument.\n",
      "  pred_probabilities = F.softmax(prediction).data.squeeze()\n",
      "100%|█████████████████████████████████████████| 200/200 [00:12<00:00, 16.40it/s]\n"
     ]
    }
   ],
   "source": [
    "dcam,permutation_success = dcam.run(\n",
    "    instance=X_specimen, nb_permutation=200, \n",
    "    label_instance=y_specimen,generate_all=False)"
   ]
  },
  {
   "cell_type": "code",
   "execution_count": 21,
   "id": "2181daf8-1b3f-43c1-bccb-e4f3a1fd2031",
   "metadata": {},
   "outputs": [
    {
     "data": {
      "text/plain": [
       "(20, 100)"
      ]
     },
     "execution_count": 21,
     "metadata": {},
     "output_type": "execute_result"
    }
   ],
   "source": [
    "# dCAM result is a 2D heat map\n",
    "dcam.shape"
   ]
  },
  {
   "cell_type": "code",
   "execution_count": null,
   "id": "b59e4120-c9b1-41e7-9c34-a1d73ba8e996",
   "metadata": {},
   "outputs": [],
   "source": []
  },
  {
   "cell_type": "markdown",
   "id": "1e0f8e09-9f2c-44e3-99f4-3d7551be23ad",
   "metadata": {},
   "source": [
    "## timeXplain"
   ]
  },
  {
   "cell_type": "code",
   "execution_count": 22,
   "id": "ee025c7f-0e66-4510-bc92-5fb54f61b96d",
   "metadata": {},
   "outputs": [
    {
     "name": "stderr",
     "output_type": "stream",
     "text": [
      "/home/davide/miniconda/envs/last_torch/lib/python3.9/site-packages/tqdm/auto.py:21: TqdmWarning: IProgress not found. Please update jupyter and ipywidgets. See https://ipywidgets.readthedocs.io/en/stable/user_install.html\n",
      "  from .autonotebook import tqdm as notebook_tqdm\n"
     ]
    }
   ],
   "source": [
    "import sys\n",
    "sys.path.insert(0, 'timeXplain')\n",
    "import timexplain as tx\n",
    "from sklearn.preprocessing import FunctionTransformer"
   ]
  },
  {
   "cell_type": "code",
   "execution_count": 23,
   "id": "74198642-938d-42f0-b88f-cbff8be3391b",
   "metadata": {},
   "outputs": [],
   "source": [
    "concat_data = load_data(data_name=\"synth\",concat=True)\n",
    "\n",
    "X_test_concat = concat_data[\"PseudoPeriodic_Positional_False\"]['X_test']\n",
    "y_test_concat = concat_data[\"PseudoPeriodic_Positional_False\"]['y_test']"
   ]
  },
  {
   "cell_type": "code",
   "execution_count": 25,
   "id": "c91781e3-7c71-472c-a453-22baa2c46ffa",
   "metadata": {},
   "outputs": [],
   "source": [
    "X_specimen = X_test_concat[0]\n",
    "y_specimen = y_test_concat[0]\n",
    "\n",
    "size_x = X_specimen.shape[-1]\n",
    "\n",
    "# We want 10 slices for each of  the 20 channels = \n",
    "# 200 tot slices\n",
    "n_slices = 200"
   ]
  },
  {
   "cell_type": "code",
   "execution_count": 27,
   "id": "528f09ba-86f1-4f09-9507-aaf569bebbde",
   "metadata": {},
   "outputs": [],
   "source": [
    "# timeXplain expects 1D inputs. We need to have as first \n",
    "# pipeline step np.expand_dims\n",
    "cls = make_pipeline(  FunctionTransformer( lambda x: np.expand_dims(x,1), validate=True),\n",
    "    cls.steps[0][1],cls.steps[1][1],cls.steps[2][1])"
   ]
  },
  {
   "cell_type": "code",
   "execution_count": 28,
   "id": "01e14ca9-7194-4198-9df0-7c2605321df6",
   "metadata": {},
   "outputs": [],
   "source": [
    "rocket_om = tx.om.TimeSliceOmitter(size_x, \n",
    "    time_slicing=n_slices, x_repl=tx.om.x_sample)\n",
    "\n",
    "shap_explainer = tx.om.KernelShapExplainer(rocket_om,\n",
    "    cls.predict_proba, X_bg=X_test_concat, y_bg=y_test_concat, \n",
    "            n_samples=500, n_builds=5, bgcs=True)\n"
   ]
  },
  {
   "cell_type": "code",
   "execution_count": 29,
   "id": "bf353c5a-d662-4f1d-a2ba-9a3ced114922",
   "metadata": {
    "scrolled": true
   },
   "outputs": [
    {
     "name": "stderr",
     "output_type": "stream",
     "text": [
      "  0%|                                                     | 0/1 [00:00<?, ?it/s]\n",
      "  0%|                                                     | 0/2 [00:00<?, ?it/s]\u001b[A\n",
      "\n",
      "  0%|                                                     | 0/5 [00:00<?, ?it/s]\u001b[A\u001b[A\n",
      "\n",
      " 20%|█████████                                    | 1/5 [00:09<00:38,  9.58s/it]\u001b[A\u001b[A\n",
      "\n",
      " 40%|██████████████████                           | 2/5 [00:19<00:29,  9.99s/it]\u001b[A\u001b[A\n",
      "\n",
      " 60%|███████████████████████████                  | 3/5 [00:30<00:20, 10.29s/it]\u001b[A\u001b[A\n",
      "\n",
      " 80%|████████████████████████████████████         | 4/5 [00:41<00:10, 10.54s/it]\u001b[A\u001b[A\n",
      "\n",
      "100%|█████████████████████████████████████████████| 5/5 [00:52<00:00, 10.65s/it]\u001b[A\u001b[A\n",
      "\n",
      "                                                                                \u001b[A\u001b[A\n",
      " 50%|██████████████████████▌                      | 1/2 [00:52<00:52, 52.29s/it]\u001b[A\n",
      "\n",
      "  0%|                                                     | 0/5 [00:00<?, ?it/s]\u001b[A\u001b[A\n",
      "\n",
      " 20%|█████████                                    | 1/5 [00:11<00:44, 11.13s/it]\u001b[A\u001b[A\n",
      "\n",
      " 40%|██████████████████                           | 2/5 [00:22<00:33, 11.13s/it]\u001b[A\u001b[A\n",
      "\n",
      " 60%|███████████████████████████                  | 3/5 [00:33<00:22, 11.24s/it]\u001b[A\u001b[A\n",
      "\n",
      " 80%|████████████████████████████████████         | 4/5 [00:44<00:11, 11.11s/it]\u001b[A\u001b[A\n",
      "\n",
      "100%|█████████████████████████████████████████████| 5/5 [00:56<00:00, 11.35s/it]\u001b[A\u001b[A\n",
      "\n",
      "                                                                                \u001b[A\u001b[A\n",
      "100%|█████████████████████████████████████████████| 2/2 [01:48<00:00, 54.67s/it]\u001b[A\n",
      "                                                                                \u001b[A\r"
     ]
    }
   ],
   "source": [
    "rocket_expl = shap_explainer.explain(X_specimen)"
   ]
  },
  {
   "cell_type": "code",
   "execution_count": 30,
   "id": "bde3e2e1-096a-46aa-9938-505d298c14d1",
   "metadata": {},
   "outputs": [
    {
     "data": {
      "text/plain": [
       "(2, 200)"
      ]
     },
     "execution_count": 30,
     "metadata": {},
     "output_type": "execute_result"
    }
   ],
   "source": [
    "rocket_expl.impacts.shape\n",
    "# explanation  shape is now (#n classes,n_slices)\n",
    "#To have a multivariate explanation we need to reshape"
   ]
  },
  {
   "cell_type": "code",
   "execution_count": 31,
   "id": "f432d354-b13c-4e96-906b-479a3fd99b95",
   "metadata": {},
   "outputs": [
    {
     "name": "stdout",
     "output_type": "stream",
     "text": [
      "(2, 20, 10)\n"
     ]
    }
   ],
   "source": [
    "multi_rocket_expl = np.reshape(\n",
    "    rocket_expl.impacts,(2,20,-1))\n",
    "print( multi_rocket_expl.shape)"
   ]
  },
  {
   "cell_type": "code",
   "execution_count": null,
   "id": "240a53aa-5e0b-480c-b733-a992cb7285b0",
   "metadata": {},
   "outputs": [],
   "source": []
  }
 ],
 "metadata": {
  "kernelspec": {
   "display_name": "Python 3 (ipykernel)",
   "language": "python",
   "name": "python3"
  },
  "language_info": {
   "codemirror_mode": {
    "name": "ipython",
    "version": 3
   },
   "file_extension": ".py",
   "mimetype": "text/x-python",
   "name": "python",
   "nbconvert_exporter": "python",
   "pygments_lexer": "ipython3",
   "version": "3.9.16"
  }
 },
 "nbformat": 4,
 "nbformat_minor": 5
}
